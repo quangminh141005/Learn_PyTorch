{
  "nbformat": 4,
  "nbformat_minor": 0,
  "metadata": {
    "colab": {
      "provenance": [],
      "authorship_tag": "ABX9TyNmdHImEAUs7aciPqxM+n5O",
      "include_colab_link": true
    },
    "kernelspec": {
      "name": "python3",
      "display_name": "Python 3"
    },
    "language_info": {
      "name": "python"
    }
  },
  "cells": [
    {
      "cell_type": "markdown",
      "metadata": {
        "id": "view-in-github",
        "colab_type": "text"
      },
      "source": [
        "<a href=\"https://colab.research.google.com/github/quangminh141005/Learn_PyTorch/blob/main/60_minutes_PyTorch.ipynb\" target=\"_parent\"><img src=\"https://colab.research.google.com/assets/colab-badge.svg\" alt=\"Open In Colab\"/></a>"
      ]
    },
    {
      "cell_type": "code",
      "execution_count": null,
      "metadata": {
        "id": "g8lXybesTCzN"
      },
      "outputs": [],
      "source": [
        "import torch\n",
        "import numpy as np"
      ]
    },
    {
      "cell_type": "code",
      "source": [
        "data = [[1, 2], [3, 4]]\n",
        "x_data = torch.tensor(data)\n",
        "x_data, x_data.dtype"
      ],
      "metadata": {
        "colab": {
          "base_uri": "https://localhost:8080/"
        },
        "id": "5MVkv_J1TIQl",
        "outputId": "abf81dd6-8cf1-496e-926a-51962fd6464b"
      },
      "execution_count": null,
      "outputs": [
        {
          "output_type": "execute_result",
          "data": {
            "text/plain": [
              "(tensor([[1, 2],\n",
              "         [3, 4]]),\n",
              " torch.int64)"
            ]
          },
          "metadata": {},
          "execution_count": 12
        }
      ]
    },
    {
      "cell_type": "code",
      "source": [
        "new_data = [[1., 2.], [3., 4.]]\n",
        "np_array = np.array(new_data)\n",
        "tensor_np = torch.from_numpy(np_array)\n",
        "tensor_np, tensor_np.dtype\n",
        "# np_array, np_array.dtype"
      ],
      "metadata": {
        "colab": {
          "base_uri": "https://localhost:8080/"
        },
        "id": "3H1_TraZTdal",
        "outputId": "5fa23c65-d44e-4e5c-b781-246d582a6d81"
      },
      "execution_count": null,
      "outputs": [
        {
          "output_type": "execute_result",
          "data": {
            "text/plain": [
              "(tensor([[1., 2.],\n",
              "         [3., 4.]], dtype=torch.float64),\n",
              " torch.float64)"
            ]
          },
          "metadata": {},
          "execution_count": 11
        }
      ]
    },
    {
      "cell_type": "markdown",
      "source": [
        "###**From another tensor:**\n",
        "* The new tensor reatins the properties (shpae, datatype) of the argument tensor, unless explicitly overidden"
      ],
      "metadata": {
        "id": "ghXK4b_ZTvuH"
      }
    },
    {
      "cell_type": "code",
      "source": [
        "x_ones = torch.ones_like(x_data)\n",
        "x_ones"
      ],
      "metadata": {
        "colab": {
          "base_uri": "https://localhost:8080/"
        },
        "id": "c-ghxEPkU6TM",
        "outputId": "036ff425-b346-44e3-b097-24427cf7f888"
      },
      "execution_count": null,
      "outputs": [
        {
          "output_type": "execute_result",
          "data": {
            "text/plain": [
              "tensor([[1, 1],\n",
              "        [1, 1]])"
            ]
          },
          "metadata": {},
          "execution_count": 14
        }
      ]
    },
    {
      "cell_type": "code",
      "source": [
        "tensor_rand = torch.rand_like(x_data,dtype=torch.float)\n",
        "tensor_rand"
      ],
      "metadata": {
        "colab": {
          "base_uri": "https://localhost:8080/"
        },
        "id": "vUiNbLkocCaS",
        "outputId": "c508f580-94da-4fb4-dea6-20fa8656915c"
      },
      "execution_count": null,
      "outputs": [
        {
          "output_type": "execute_result",
          "data": {
            "text/plain": [
              "tensor([[0.8348, 0.7478],\n",
              "        [0.9953, 0.9918]])"
            ]
          },
          "metadata": {},
          "execution_count": 16
        }
      ]
    },
    {
      "cell_type": "code",
      "source": [
        "shape = (2, 3)\n",
        "rand_tensor = torch.rand(shape)\n",
        "ones_tensor = torch.ones(shape)\n",
        "zeros_tensor = torch.zeros(shape)\n",
        "\n",
        "print(f\"Randow tensor in {shape} shape: {rand_tensor}\")\n",
        "print(f\"Ones tensor in {shape} shape: {ones_tensor}\")\n",
        "print(f\"Zeros tensor in {shape} shape: {zeros_tensor}\")"
      ],
      "metadata": {
        "colab": {
          "base_uri": "https://localhost:8080/"
        },
        "id": "GVxXgHIxcMih",
        "outputId": "2cb83801-fc34-4579-f2d2-ba44d58bea75"
      },
      "execution_count": null,
      "outputs": [
        {
          "output_type": "stream",
          "name": "stdout",
          "text": [
            "Randow tensor in (2, 3) shape: tensor([[0.0400, 0.5581, 0.8330],\n",
            "        [0.4348, 0.1213, 0.7872]])\n",
            "Ones tensor in (2, 3) shape: tensor([[1., 1., 1.],\n",
            "        [1., 1., 1.]])\n",
            "Zeros tensor in (2, 3) shape: tensor([[0., 0., 0.],\n",
            "        [0., 0., 0.]])\n"
          ]
        }
      ]
    },
    {
      "cell_type": "code",
      "source": [
        "print(f\"Device tensor is stored: {rand_tensor.device}\")"
      ],
      "metadata": {
        "colab": {
          "base_uri": "https://localhost:8080/"
        },
        "id": "2SXaQbnPdmKz",
        "outputId": "c69bbfaf-df64-4bbe-fb0c-5efca44d48ae"
      },
      "execution_count": null,
      "outputs": [
        {
          "output_type": "stream",
          "name": "stdout",
          "text": [
            "Device tensor is stored: cpu\n"
          ]
        }
      ]
    },
    {
      "cell_type": "code",
      "source": [
        "import torch\n",
        "device = \"cuda\" if torch.cuda.is_available() else \"cpu\""
      ],
      "metadata": {
        "id": "hQHIk_DmgPfu"
      },
      "execution_count": null,
      "outputs": []
    },
    {
      "cell_type": "code",
      "source": [
        "import torch\n",
        "from torchvision.models import resnet18, ResNet18_Weights\n",
        "model = resnet18(weights=ResNet18_Weights.DEFAULT)\n",
        "data = torch.rand(1, 3, 64, 64)\n",
        "labels = torch.rand(1, 1000)"
      ],
      "metadata": {
        "id": "7NkXuwbU1RLQ"
      },
      "execution_count": null,
      "outputs": []
    },
    {
      "cell_type": "markdown",
      "source": [
        "## PyTorch autograd"
      ],
      "metadata": {
        "id": "sQZRC4lo1dqv"
      }
    },
    {
      "cell_type": "code",
      "source": [
        "x = torch.tensor([3.0], requires_grad=True)\n",
        "\n",
        "y = x**2\n",
        "\n",
        "y.backward()\n",
        "\n",
        "print(x.grad)"
      ],
      "metadata": {
        "colab": {
          "base_uri": "https://localhost:8080/"
        },
        "id": "q1luypXG3QJF",
        "outputId": "f4932206-1e76-46dd-f713-0ec208fdbdd7"
      },
      "execution_count": null,
      "outputs": [
        {
          "output_type": "stream",
          "name": "stdout",
          "text": [
            "tensor([6.])\n"
          ]
        }
      ]
    },
    {
      "cell_type": "code",
      "source": [
        "# Example of a pretrained model\n",
        "import torch\n",
        "import torch.nn as nn\n",
        "import torch.nn.functional as F\n",
        "\n",
        "# Define the model class\n",
        "class SimpleNet(nn.Module):\n",
        "  def __init__(self):\n",
        "    super(SimpleNet, self).__init__()\n",
        "    # Define layers\n",
        "    self.fc1 = nn.Linear(784, 128) # input layer (28x28 pixels flatten to 784)\n",
        "    self.fc2 = nn.Linear(128, 64) # hidden layer\n",
        "    self.fc3 = nn.Linear(64, 10) # Output layer (10 classes)\n",
        "\n",
        "  def forward(self, x):\n",
        "    # Forward pass logic\n",
        "    x = F.relu(self.fc1(x)) # pass through the first layer + ReLU\n",
        "    x = F.relu(self.fc2(x)) # pass through second layer + ReLU\n",
        "    x = self.fc3(x)         # final layer, raw scores (logits)\n",
        "    return x"
      ],
      "metadata": {
        "id": "BWSalkSF3gGw"
      },
      "execution_count": null,
      "outputs": []
    },
    {
      "cell_type": "code",
      "source": [
        "model_simple = SimpleNet()\n",
        "model_simple"
      ],
      "metadata": {
        "colab": {
          "base_uri": "https://localhost:8080/"
        },
        "id": "Ejq8frsOeJ_S",
        "outputId": "1003d3ae-c3eb-435b-9eb1-cff9a8e946aa"
      },
      "execution_count": null,
      "outputs": [
        {
          "output_type": "execute_result",
          "data": {
            "text/plain": [
              "SimpleNet(\n",
              "  (fc1): Linear(in_features=784, out_features=128, bias=True)\n",
              "  (fc2): Linear(in_features=128, out_features=64, bias=True)\n",
              "  (fc3): Linear(in_features=64, out_features=10, bias=True)\n",
              ")"
            ]
          },
          "metadata": {},
          "execution_count": 6
        }
      ]
    },
    {
      "cell_type": "code",
      "source": [
        "input_data = torch.rand(1, 784)"
      ],
      "metadata": {
        "id": "dzw-Bvm8ek10"
      },
      "execution_count": null,
      "outputs": []
    },
    {
      "cell_type": "code",
      "source": [
        "output = model_simple(input_data)\n",
        "output.shape"
      ],
      "metadata": {
        "colab": {
          "base_uri": "https://localhost:8080/"
        },
        "id": "qZAZJG5LetX1",
        "outputId": "4baa7026-b7ec-440b-8b36-6f91d4cb2706"
      },
      "execution_count": null,
      "outputs": [
        {
          "output_type": "execute_result",
          "data": {
            "text/plain": [
              "torch.Size([1, 10])"
            ]
          },
          "metadata": {},
          "execution_count": 8
        }
      ]
    },
    {
      "cell_type": "code",
      "source": [
        "output"
      ],
      "metadata": {
        "colab": {
          "base_uri": "https://localhost:8080/"
        },
        "id": "64P25QIEezSj",
        "outputId": "7701d3ba-115e-4692-a2d8-52788bf144aa"
      },
      "execution_count": null,
      "outputs": [
        {
          "output_type": "execute_result",
          "data": {
            "text/plain": [
              "tensor([[ 0.1267,  0.0366, -0.0011, -0.1782, -0.0930, -0.0457, -0.0986, -0.1442,\n",
              "         -0.0266, -0.1835]], grad_fn=<AddmmBackward0>)"
            ]
          },
          "metadata": {},
          "execution_count": 9
        }
      ]
    },
    {
      "cell_type": "code",
      "source": [
        "prediction = model(data)"
      ],
      "metadata": {
        "id": "0mKB4fESe1l0"
      },
      "execution_count": null,
      "outputs": []
    },
    {
      "cell_type": "code",
      "source": [
        "loss = (prediction - labels).sum()\n",
        "loss.backward()"
      ],
      "metadata": {
        "id": "isoOaAy5fc_9"
      },
      "execution_count": null,
      "outputs": []
    },
    {
      "cell_type": "code",
      "source": [
        "optim = torch.optim.SGD(model.parameters(), lr=1e-2, momentum=0.9)\n",
        "optim.step()"
      ],
      "metadata": {
        "id": "M2PsztqzlrrM"
      },
      "execution_count": null,
      "outputs": []
    },
    {
      "cell_type": "code",
      "source": [
        "# Another example of .backward()\n",
        "import torch\n",
        "import torch.nn as nn\n",
        "import torch.optim as optim\n",
        "\n",
        "# Create some dummy imput and target\n",
        "x = torch.tensor([[1.0], [2.0], [3.0]], requires_grad=False)\n",
        "y = torch.tensor([[2.0], [4.0], [6.0]], requires_grad=False)\n",
        "\n",
        "# Define a simple linear model: y = ax+ b\n",
        "model = nn.Linear(1, 1) # One input, one putput\n",
        "\n",
        "\n",
        "# Define loss function: Mean Squarred Error\n",
        "criterion = nn.MSELoss()\n",
        "\n",
        "# Define optimizer\n",
        "optimizer = optim.SGD(model.parameters(), lr=0.01)\n",
        "\n",
        "# Forward pass\n",
        "y_pred = model(x)\n",
        "loss = criterion(y_pred, y)\n",
        "print(f\"Loss before backward: {loss.item()}\")\n",
        "\n",
        "# Backward pass\n",
        "loss.backward()\n",
        "\n",
        "for name, param in model.named_parameters():\n",
        "  if param.requires_grad:\n",
        "    print(f\"Gradient for {name}: {param.grad}\")\n",
        "\n",
        "optimizer.step()\n",
        "optimizer.zero_grad()\n"
      ],
      "metadata": {
        "colab": {
          "base_uri": "https://localhost:8080/"
        },
        "id": "xdEHR0_r7U3O",
        "outputId": "56b6f8ee-ee11-412d-c6a8-6d4154a079c3"
      },
      "execution_count": null,
      "outputs": [
        {
          "output_type": "stream",
          "name": "stdout",
          "text": [
            "Loss before backward: 5.772523403167725\n",
            "Gradient for weight: tensor([[-10.3005]])\n",
            "Gradient for bias: tensor([-4.1896])\n"
          ]
        }
      ]
    },
    {
      "cell_type": "markdown",
      "source": [
        "## Differentiation in Autograd"
      ],
      "metadata": {
        "id": "P9sI3cDNlsgR"
      }
    },
    {
      "cell_type": "code",
      "source": [
        "import torch\n",
        "a = torch.tensor([2., 3.], requires_grad=True)\n",
        "b = torch.tensor([6., 4.], requires_grad=True)"
      ],
      "metadata": {
        "id": "lj0x3b70nddM"
      },
      "execution_count": null,
      "outputs": []
    },
    {
      "cell_type": "code",
      "source": [
        "Q = 3*a**3 - b**2"
      ],
      "metadata": {
        "id": "I-YkmmbontQW"
      },
      "execution_count": null,
      "outputs": []
    },
    {
      "cell_type": "code",
      "source": [
        "external_grad = torch.tensor([1., 1.])\n",
        "Q.backward(gradient=external_grad)"
      ],
      "metadata": {
        "id": "7kIqYem-n_fG"
      },
      "execution_count": null,
      "outputs": []
    },
    {
      "cell_type": "code",
      "source": [
        "# A simple use of backward\n",
        "import torch\n",
        "\n",
        "x = torch.tensor(2.0, requires_grad=True)\n",
        "\n",
        "y = x**2\n",
        "\n",
        "y.backward()\n",
        "\n",
        "print(x.grad)"
      ],
      "metadata": {
        "id": "RcFfoAnu5_6b",
        "colab": {
          "base_uri": "https://localhost:8080/"
        },
        "outputId": "d849fe15-c400-402e-d0a4-f4af81499b46"
      },
      "execution_count": null,
      "outputs": [
        {
          "output_type": "stream",
          "name": "stdout",
          "text": [
            "tensor(4.)\n"
          ]
        }
      ]
    },
    {
      "cell_type": "code",
      "source": [
        "# Example with enternal grad (when the output is not a scalar)\n",
        "\n",
        "x = torch.tensor([1.0, 2.0, 3.0], requires_grad=True)\n",
        "\n",
        "y = x*2\n",
        "\n",
        "external_grad = torch.tensor([0.1, 1.0, 0.0001])\n",
        "\n",
        "y.backward(gradient=external_grad)\n",
        "\n",
        "print(x.grad)"
      ],
      "metadata": {
        "colab": {
          "base_uri": "https://localhost:8080/",
          "height": 234
        },
        "id": "m_YQZSa7a_Bd",
        "outputId": "f42392a3-2937-41f9-8a9d-8b4383b21c16"
      },
      "execution_count": null,
      "outputs": [
        {
          "output_type": "stream",
          "name": "stdout",
          "text": [
            "tensor([2.0000e-01, 2.0000e+00, 2.0000e-04])\n"
          ]
        },
        {
          "output_type": "error",
          "ename": "NameError",
          "evalue": "name 'loss' is not defined",
          "traceback": [
            "\u001b[0;31m---------------------------------------------------------------------------\u001b[0m",
            "\u001b[0;31mNameError\u001b[0m                                 Traceback (most recent call last)",
            "\u001b[0;32m/tmp/ipython-input-10-2192885209.py\u001b[0m in \u001b[0;36m<cell line: 0>\u001b[0;34m()\u001b[0m\n\u001b[1;32m     10\u001b[0m \u001b[0;34m\u001b[0m\u001b[0m\n\u001b[1;32m     11\u001b[0m \u001b[0mprint\u001b[0m\u001b[0;34m(\u001b[0m\u001b[0mx\u001b[0m\u001b[0;34m.\u001b[0m\u001b[0mgrad\u001b[0m\u001b[0;34m)\u001b[0m\u001b[0;34m\u001b[0m\u001b[0;34m\u001b[0m\u001b[0m\n\u001b[0;32m---> 12\u001b[0;31m \u001b[0mprint\u001b[0m\u001b[0;34m(\u001b[0m\u001b[0mloss\u001b[0m\u001b[0;34m.\u001b[0m\u001b[0mitem\u001b[0m\u001b[0;34m(\u001b[0m\u001b[0;34m)\u001b[0m\u001b[0;34m)\u001b[0m\u001b[0;34m\u001b[0m\u001b[0;34m\u001b[0m\u001b[0m\n\u001b[0m",
            "\u001b[0;31mNameError\u001b[0m: name 'loss' is not defined"
          ]
        }
      ]
    },
    {
      "cell_type": "markdown",
      "source": [
        "## Neural Networks"
      ],
      "metadata": {
        "id": "TJQbEY8sb2iQ"
      }
    },
    {
      "cell_type": "code",
      "source": [
        "import torch\n",
        "import torch.nn as nn\n",
        "import torch.nn.functional as F\n",
        "\n",
        "class Net(nn.Module):\n",
        "\n",
        "  def __init__(self):\n",
        "    super(Net, self).__init__()\n",
        "    # 1 input image, 6 output channels, 5x5 square convolution\n",
        "    # Kernel\n",
        "    self.conv1 = nn.Conv2d(1, 6, 5)\n",
        "    self.conv2 = nn.Conv2d(6, 16, 5)\n",
        "    # y = Wx + b\n",
        "    self.fc1 = nn.Linear(16 * 5 * 5, 120)\n",
        "    self.fc2 = nn.Linear(120, 84)\n",
        "    self.fc3 = nn.Linear(84, 10)\n",
        "\n",
        "  def forward(self, input):\n",
        "    # conv1: 1 input channel, 6 output channels\n",
        "    # 5x5 convolution, it uses RELU activation, and outputs\n",
        "    # a Tensor with size (N, 8, 28, 28), where N is the size\n",
        "    # of the batch\n",
        "    c1 = F.relu(self.conv1(input))\n",
        "\n",
        "    # Subsampling layer S2: 2x2 grid, purely functional,\n",
        "    # this layer doesn't have any parameters (because it\n",
        "    # picking the max value from max_pool2d)\n",
        "    s2 = F.max_pool2d(c1, (2, 2))\n",
        "\n",
        "    # Convolotion layer C3: 6 input channels, 16 output channels\n",
        "    # 5x5 convolution, use ReLU activation\n",
        "    c3 = F.relu(self.conv2(s2))\n",
        "\n",
        "    # Sampling layer: 2x2 grid\n",
        "    s4 = F.max_pool2d(c3, 2)\n",
        "\n",
        "    # Flatten the tensor, ouput a (N, 400) Tensor\n",
        "    s4 = torch.flatten(s4, 1)\n",
        "\n",
        "    # input: (N, 400)\n",
        "    # Output: (N, 120)\n",
        "    f5 = F.relu(self.fc1(s4))\n",
        "\n",
        "    f6 = F.relu(self.fc2(f5))\n",
        "\n",
        "    output = self.fc3(f6)\n",
        "    return output\n",
        "\n",
        "net = Net()\n",
        "print(net)"
      ],
      "metadata": {
        "colab": {
          "base_uri": "https://localhost:8080/"
        },
        "id": "TxiYiUVTxxR_",
        "outputId": "1eb57ad7-f5a1-4ee0-9bdd-4db475c94331"
      },
      "execution_count": 11,
      "outputs": [
        {
          "output_type": "stream",
          "name": "stdout",
          "text": [
            "Net(\n",
            "  (conv1): Conv2d(1, 6, kernel_size=(5, 5), stride=(1, 1))\n",
            "  (conv2): Conv2d(6, 16, kernel_size=(5, 5), stride=(1, 1))\n",
            "  (fc1): Linear(in_features=400, out_features=120, bias=True)\n",
            "  (fc2): Linear(in_features=120, out_features=84, bias=True)\n",
            "  (fc3): Linear(in_features=84, out_features=10, bias=True)\n",
            ")\n"
          ]
        }
      ]
    },
    {
      "cell_type": "code",
      "source": [
        "params = list(net.parameters())\n",
        "print(len(params))\n",
        "print(params[0].size())"
      ],
      "metadata": {
        "colab": {
          "base_uri": "https://localhost:8080/"
        },
        "id": "0dYs5tOMIrPM",
        "outputId": "f06b59e1-54f0-4a55-886d-f5c7383415a2"
      },
      "execution_count": 12,
      "outputs": [
        {
          "output_type": "stream",
          "name": "stdout",
          "text": [
            "10\n",
            "torch.Size([6, 1, 5, 5])\n"
          ]
        }
      ]
    },
    {
      "cell_type": "code",
      "source": [
        "input = torch.randn(1, 1, 32, 32)\n",
        "out = net(input)\n",
        "print(out)"
      ],
      "metadata": {
        "colab": {
          "base_uri": "https://localhost:8080/"
        },
        "id": "pZdTovBDIr8O",
        "outputId": "d82f4350-1c00-4ba3-da80-b6a3c9ddcbee"
      },
      "execution_count": 13,
      "outputs": [
        {
          "output_type": "stream",
          "name": "stdout",
          "text": [
            "tensor([[ 0.0383, -0.0873, -0.0243, -0.0684,  0.0417,  0.0082,  0.0045, -0.0624,\n",
            "         -0.0023, -0.0460]], grad_fn=<AddmmBackward0>)\n"
          ]
        }
      ]
    },
    {
      "cell_type": "code",
      "source": [
        "net.zero_grad() # Clear the previous gradient for the next gradient descent\n",
        "out.backward(torch.randn(1, 10))"
      ],
      "metadata": {
        "id": "gKTLuAX3boB8"
      },
      "execution_count": 14,
      "outputs": []
    },
    {
      "cell_type": "code",
      "source": [
        "# Compute the loss function\n",
        "output = net(input)\n",
        "target = torch.randn(10) # a dummy target\n",
        "target = target.view(1, -1)\n",
        "criterion = nn.MSELoss()\n",
        "\n",
        "loss = criterion(output, target)\n",
        "print(loss)"
      ],
      "metadata": {
        "colab": {
          "base_uri": "https://localhost:8080/"
        },
        "id": "O2Zy_c7lb6Az",
        "outputId": "37227d5f-10e9-480e-abba-2d2b4ff3e339"
      },
      "execution_count": 15,
      "outputs": [
        {
          "output_type": "stream",
          "name": "stdout",
          "text": [
            "tensor(0.6942, grad_fn=<MseLossBackward0>)\n"
          ]
        }
      ]
    },
    {
      "cell_type": "code",
      "source": [
        "# Illustration of loss.backward()\n",
        "print(loss.grad_fn)\n",
        "print(loss.grad_fn.next_functions[0][0])\n",
        "print(loss.grad_fn.next_functions[0][0].next_functions[0][0])"
      ],
      "metadata": {
        "colab": {
          "base_uri": "https://localhost:8080/"
        },
        "id": "nu8fvjdHdXYX",
        "outputId": "c0015681-453a-4bea-d3c2-b70767f435dd"
      },
      "execution_count": 16,
      "outputs": [
        {
          "output_type": "stream",
          "name": "stdout",
          "text": [
            "<MseLossBackward0 object at 0x7882fbfc5090>\n",
            "<AddmmBackward0 object at 0x7882fbfc63e0>\n",
            "<AccumulateGrad object at 0x7882fbfc5090>\n"
          ]
        }
      ]
    },
    {
      "cell_type": "code",
      "source": [
        "# Backprop\n",
        "net.zero_grad()\n",
        "\n",
        "print(\"conv1.bias.grad before backward\")\n",
        "print(net.conv1.bias.grad)\n",
        "\n",
        "loss.backward()\n",
        "\n",
        "print(\"conv1.bias.grad after backward\")\n",
        "print(net.conv1.bias.grad)"
      ],
      "metadata": {
        "id": "aDAYReoud-Z0",
        "colab": {
          "base_uri": "https://localhost:8080/"
        },
        "outputId": "27af0b7e-b12f-4a99-e665-e34e718fbb84"
      },
      "execution_count": 17,
      "outputs": [
        {
          "output_type": "stream",
          "name": "stdout",
          "text": [
            "conv1.bias.grad before backward\n",
            "None\n",
            "conv1.bias.grad after backward\n",
            "tensor([ 0.0014, -0.0027,  0.0104,  0.0065, -0.0087, -0.0089])\n"
          ]
        }
      ]
    },
    {
      "cell_type": "code",
      "source": [
        "# Update the weight using gradient descent (SGD)\n",
        "\n",
        "# learning_rate = 0.01\n",
        "# for f in net.parameters():\n",
        "  # f.data.sub_(f.grad.data * learning_rate)\n",
        "\n",
        "# Create optimizer\n",
        "import torch.optim as optim\n",
        "optimizer = optim.SGD(net.parameters(), lr=0.01)\n",
        "\n",
        "# In training loop\n",
        "optimizer.zero_grad()\n",
        "output = net(input)\n",
        "loss = criterion(output, target)\n",
        "loss.backward()\n",
        "optimizer.step()"
      ],
      "metadata": {
        "id": "oIttGSxZmBRU"
      },
      "execution_count": 20,
      "outputs": []
    },
    {
      "cell_type": "code",
      "source": [],
      "metadata": {
        "id": "thJRsWvLoEJM"
      },
      "execution_count": null,
      "outputs": []
    }
  ]
}